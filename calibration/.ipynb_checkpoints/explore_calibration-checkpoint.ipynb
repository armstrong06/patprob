{
 "cells": [
  {
   "cell_type": "code",
   "execution_count": 1,
   "metadata": {},
   "outputs": [],
   "source": [
    "import pandas as pd\n",
    "import numpy as np\n",
    "import matplotlib.pyplot as plt"
   ]
  },
  {
   "cell_type": "code",
   "execution_count": 3,
   "metadata": {},
   "outputs": [],
   "source": [
    "def load_model_results(file_name):\n",
    "    file = np.load(file_name)\n",
    "    predictions = file[\"predictions\"]\n",
    "    targets = file[\"targets\"][:, 0]\n",
    "    pred_mean = file[\"prediction_mean\"]\n",
    "    pred_std = file[\"prediction_std\"]\n",
    "    resids = targets - pred_mean\n",
    "\n",
    "    return predictions, pred_mean, pred_std, targets, resids\n",
    "\n",
    "model1_file = \"../ensembles/seed1_128_0.05_3e-4_0.01/swag_test_uncertainty.npz\"\n",
    "model2_file = \"../ensembles/seed2_128_0.05_3e-4_0.01/swag_test_uncertainty.npz\"\n",
    "model3_file = \"../ensembles/seed3_128_0.05_3e-4_0.01/swag_test_uncertainty.npz\"\n",
    "\n",
    "model1_preds, model1_pred_mean, model1_pred_std, model1_targets, model1_resids = load_model_results(model1_file)\n",
    "model2_preds, model2_pred_mean, model2_pred_std, model2_targets, model2_resids = load_model_results(model2_file)\n",
    "model3_preds, model3_pred_mean, model3_pred_std, model3_targets, model3_resids = load_model_results(model3_file)\n",
    "\n",
    "combined_predictions = np.concatenate([model1_preds, model2_preds, model3_preds], axis=1)\n",
    "combined_means = np.mean(combined_predictions, axis=1)\n",
    "combined_stds = np.std(combined_predictions, axis=1)\n",
    "assert np.array_equal(model1_targets, model2_targets)\n",
    "assert np.array_equal(model1_targets, model3_targets)\n",
    "combined_residuals = model1_targets - combined_means"
   ]
  },
  {
   "cell_type": "code",
   "execution_count": 19,
   "metadata": {},
   "outputs": [
    {
     "data": {
      "image/png": "[encoded data removed]",
      "text/plain": [
       "<Figure size 432x288 with 1 Axes>"
      ]
     },
     "metadata": {
      "needs_background": "light"
     },
     "output_type": "display_data"
    }
   ],
   "source": [
    "plt.hist(combined_residuals, bins=np.arange(np.min(combined_residuals), np.max(combined_residuals)+0.02, 0.02), edgecolor='k', linewidth=1.0);"
   ]
  },
  {
   "cell_type": "code",
   "execution_count": 17,
   "metadata": {},
   "outputs": [
    {
     "data": {
      "text/plain": [
       "0.8213214404053159"
      ]
     },
     "execution_count": 17,
     "metadata": {},
     "output_type": "execute_result"
    }
   ],
   "source": [
    "np.max(combined_residuals)"
   ]
  },
  {
   "cell_type": "code",
   "execution_count": 18,
   "metadata": {},
   "outputs": [
    {
     "data": {
      "text/plain": [
       "-0.9215584887398613"
      ]
     },
     "execution_count": 18,
     "metadata": {},
     "output_type": "execute_result"
    }
   ],
   "source": [
    "np.min(combined_residuals)"
   ]
  },
  {
   "cell_type": "code",
   "execution_count": null,
   "metadata": {},
   "outputs": [],
   "source": []
  }
 ],
 "metadata": {
  "kernelspec": {
   "display_name": "Python 3",
   "language": "python",
   "name": "python3"
  },
  "language_info": {
   "codemirror_mode": {
    "name": "ipython",
    "version": 3
   },
   "file_extension": ".py",
   "mimetype": "text/x-python",
   "name": "python",
   "nbconvert_exporter": "python",
   "pygments_lexer": "ipython3",
   "version": "3.8.5"
  }
 },
 "nbformat": 4,
 "nbformat_minor": 4
}
